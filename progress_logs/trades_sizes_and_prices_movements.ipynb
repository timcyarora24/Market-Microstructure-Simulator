{
 "cells": [
  {
   "cell_type": "code",
   "execution_count": 15,
   "id": "ba53bf05",
   "metadata": {},
   "outputs": [],
   "source": [
    "# Add trade size generation:\n",
    "\n",
    "# Start with simple power law distribution\n",
    "# Test different alpha values (1.5, 2.0, 2.5)\n",
    "# Plot size distribution histograms\n",
    "\n",
    "\n",
    "# Add price movement:\n",
    "\n",
    "# Simple random walk initially\n",
    "# Link price changes to trade sizes\n",
    "# Plot price time series"
   ]
  },
  {
   "cell_type": "code",
   "execution_count": null,
   "id": "f6d02d29",
   "metadata": {},
   "outputs": [],
   "source": [
    "import numpy as np\n",
    "import pandas as pd\n",
    "import matplotlib.pyplot as plt\n",
    "from datetime import datetime, time, timedelta\n",
    "from numpy.random import default_rng\n",
    "rng=default_rng()"
   ]
  },
  {
   "cell_type": "code",
   "execution_count": null,
   "id": "01c09d71",
   "metadata": {},
   "outputs": [
    {
     "name": "stdout",
     "output_type": "stream",
     "text": [
      "0.44387847562309735\n"
     ]
    }
   ],
   "source": [
    "def trade_size_generation(alpha , trades=1 , max_size=100000 , min_size=100):\n",
    "\n",
    "    \"\"\"Trade Size Generation Using Power Law Distribution Transformation\n",
    "    P(x)∝ x^(−α) here x==trade size ,α==power law exponent \"\"\" \n",
    "    # according to power law distribution large events are rare but not that rare...\n",
    "    # Many small trades (retail investors, algorithmic micro-trades)\n",
    "    # Few large trades (institutional orders)\n",
    "    # size = np.random.pareto(alpha)\n",
    "\n",
    "    # For a bounded power law, the probability density function (PDF) is:\n",
    "    # f(x) = (α-1) * x^(-α) / (x_min^(1-α) - x_max^(1-α))\n",
    "    # where x_min = min_size, x_max = max_size\n",
    "\n",
    "    size=[]\n",
    "    for i in range(len(trades)):\n",
    "\n",
    "        u=rng.random() #u~ uniform(0 , 1)\n",
    "        \n",
    "        if alpha != 1:\n",
    "            denominator=1-((min_size/max_size)**(1-alpha))\n",
    "            if denominator > 0:\n",
    "                trade_size = min_size * (1 - u * denominator) ** (1 / (1 - alpha))\n",
    "                trade_size = max(min(int(trade_size), max_size), min_size)\n",
    "            else:\n",
    "                trade_size=min_size\n",
    "        \n",
    "        size.append(trade_size)\n",
    "        return size if trades > 1 else size[0]"
   ]
  },
  {
   "cell_type": "code",
   "execution_count": null,
   "id": "9a0452b9",
   "metadata": {},
   "outputs": [],
   "source": [
    "def generate_trade_direction(trade_size):\n",
    "\n",
    "    return np.random.choice([-1, 1], size=trade_size)"
   ]
  },
  {
   "cell_type": "code",
   "execution_count": null,
   "id": "36990316",
   "metadata": {},
   "outputs": [],
   "source": [
    "def price_movement(trade_sizes , mean , volatility):\n",
    "\n",
    "    # Price Impact = β × log(Trade Size / Average Trade Size) × ε\n",
    "    # β = market impact coefficient\n",
    "    # ε = random shock (normal distribution)\n",
    "\n",
    "    avg_trade_size=np.mean(trade_sizes)\n",
    "\n",
    "    for i in trade_sizes:\n",
    "        epsilon = rng.normal(mean , volatility)\n",
    "        price_impact=  beta * np.log(i/avg_trade_size) *  epsilon \n",
    "\n",
    "    \n",
    "        "
   ]
  }
 ],
 "metadata": {
  "kernelspec": {
   "display_name": "simulation",
   "language": "python",
   "name": "python3"
  },
  "language_info": {
   "codemirror_mode": {
    "name": "ipython",
    "version": 3
   },
   "file_extension": ".py",
   "mimetype": "text/x-python",
   "name": "python",
   "nbconvert_exporter": "python",
   "pygments_lexer": "ipython3",
   "version": "3.12.7"
  }
 },
 "nbformat": 4,
 "nbformat_minor": 5
}
